{
  "nbformat": 4,
  "nbformat_minor": 0,
  "metadata": {
    "colab": {
      "provenance": []
    },
    "kernelspec": {
      "name": "python3",
      "display_name": "Python 3"
    },
    "language_info": {
      "name": "python"
    }
  },
  "cells": [
    {
      "cell_type": "markdown",
      "source": [
        "Fatih Doğaç 1901042654\n",
        "\n",
        "Part 1:"
      ],
      "metadata": {
        "id": "9ufqnem4ooUL"
      }
    },
    {
      "cell_type": "markdown",
      "source": [
        "It is a binary classification dataset. It assigns to target 0 or 1"
      ],
      "metadata": {
        "id": "K6ygiBqfMZnX"
      }
    },
    {
      "cell_type": "code",
      "source": [
        "# test classification dataset\n",
        "from sklearn.datasets import make_classification\n",
        "from sklearn.model_selection import train_test_split\n",
        "# define dataset\n",
        "X, y = make_classification(n_samples=1000, n_features=20, n_informative=15, n_redundant=5, random_state=6)\n",
        "X_train, X_test, y_train, y_test = train_test_split(X, y, test_size=0.33, random_state=42)\n",
        "# summarize the dataset\n",
        "print(X.shape, y.shape)\n",
        "print(\"-----------------\")\n",
        "print(X[0])\n",
        "print(y[0])\n",
        "print(\"-----------------\")\n",
        "print(X[1])\n",
        "print(y[1])\n"
      ],
      "metadata": {
        "colab": {
          "base_uri": "https://localhost:8080/"
        },
        "id": "Y-rvRbAlLVqe",
        "outputId": "edb63ded-4d41-4eb3-d2dc-0e1c67776ed4"
      },
      "execution_count": 1,
      "outputs": [
        {
          "output_type": "stream",
          "name": "stdout",
          "text": [
            "(1000, 20) (1000,)\n",
            "-----------------\n",
            "[ -3.47224758   1.95378146   0.04875169  -0.91592588  -3.54022468\n",
            "   1.96405547  -7.72564954  -2.64787168  -1.81726906  -1.67104974\n",
            "   2.33762043  -4.30273117   0.4839841   -1.28253034 -10.6704077\n",
            "  -0.7641103   -3.58493721   2.07283886   0.08385173   0.91461126]\n",
            "0\n",
            "-----------------\n",
            "[-2.42264447e+00  1.49687583e+00 -8.01106833e-01  2.06453050e+00\n",
            " -8.76754500e+00 -2.51286558e+00  1.40156770e+00  4.79941043e+00\n",
            "  1.39750172e+00 -5.62485856e-01 -6.03669967e-01 -3.12565915e+00\n",
            " -3.18175570e+00 -2.94187480e+00 -6.81902846e-03 -4.65861153e+00\n",
            " -6.38341467e+00  1.14726175e+00 -2.86306705e+00 -2.75750181e-01]\n",
            "1\n"
          ]
        }
      ]
    },
    {
      "cell_type": "markdown",
      "source": [
        "It trains the model with AdaBoost Ensemble Algorithm without hidden layers."
      ],
      "metadata": {
        "id": "qk4OYNAITM_t"
      }
    },
    {
      "cell_type": "code",
      "source": [
        "# evaluate adaboost algorithm for classification\n",
        "from numpy import mean\n",
        "from numpy import std\n",
        "from sklearn.model_selection import cross_val_score\n",
        "from sklearn.model_selection import RepeatedStratifiedKFold\n",
        "from sklearn.ensemble import AdaBoostClassifier\n",
        "\n",
        "model = AdaBoostClassifier()\n",
        "\n",
        "cv = RepeatedStratifiedKFold(n_splits=10, n_repeats=3, random_state=1)\n",
        "\n",
        "n_scores = cross_val_score(model, X_train, y_train, scoring='accuracy', cv=cv, n_jobs=-1, error_score='raise')\n",
        "\n",
        "print('Accuracy: %.3f (%.3f)' % (mean(n_scores), std(n_scores)))"
      ],
      "metadata": {
        "colab": {
          "base_uri": "https://localhost:8080/"
        },
        "id": "AgwPlPq3Lhqp",
        "outputId": "73333fcb-b04b-4b1d-969e-91556eb245a8"
      },
      "execution_count": 2,
      "outputs": [
        {
          "output_type": "stream",
          "name": "stdout",
          "text": [
            "Accuracy: 0.790 (0.054)\n"
          ]
        }
      ]
    },
    {
      "cell_type": "code",
      "source": [
        "model.fit(X, y)\n",
        "\n",
        "test = model.predict(X_test[0].reshape(1, -1))\n",
        "print('Predicted Class: %d' % test[0])\n",
        "print('Actual Class: %d' % y_test[0])"
      ],
      "metadata": {
        "colab": {
          "base_uri": "https://localhost:8080/"
        },
        "id": "UlhPFrkaMJiM",
        "outputId": "c80f6efd-a7a9-4015-c663-a14366052bdb"
      },
      "execution_count": 3,
      "outputs": [
        {
          "output_type": "stream",
          "name": "stdout",
          "text": [
            "Predicted Class: 1\n",
            "Actual Class: 1\n"
          ]
        }
      ]
    }
  ]
}