{
  "nbformat": 4,
  "nbformat_minor": 0,
  "metadata": {
    "colab": {
      "provenance": []
    },
    "kernelspec": {
      "name": "python3",
      "display_name": "Python 3"
    },
    "language_info": {
      "name": "python"
    }
  },
  "cells": [
    {
      "cell_type": "markdown",
      "source": [
        "Fatih Doğaç, 1901042654"
      ],
      "metadata": {
        "id": "7O_RquV8Vplb"
      }
    },
    {
      "cell_type": "markdown",
      "source": [
        "I could not do what was required from this assignment due to the responsibilities of other courses, lack of time, and the fact that a day only has 24 hours. But I did research on desicion trees for regression and classification."
      ],
      "metadata": {
        "id": "rG8u53lBPkQX"
      }
    },
    {
      "cell_type": "markdown",
      "source": [
        "To implement a Desicion Tree for Regression, first, main goal was to sort the dataset. So that i will be able to average values of i and i+1th row. Then i will split the tree according to that avarage value. Then i would have the predicted target outputs. And i will calculate the mean square error."
      ],
      "metadata": {
        "id": "WvBqxcdvPri7"
      }
    },
    {
      "cell_type": "markdown",
      "source": [
        "I need to choose the point at which I am going to split the dataset. and that point is the point, which resulted in the lowest mean squared error on splitting at it"
      ],
      "metadata": {
        "id": "9-LiWWkHQmO0"
      }
    },
    {
      "cell_type": "markdown",
      "source": [
        "The Root node is selected this way and the data points that go towards the left child and right child of the root node are further recursively exposed to the same algorithm for further splitting."
      ],
      "metadata": {
        "id": "eJxnwFHXRPvK"
      }
    },
    {
      "cell_type": "markdown",
      "source": [
        "Let's begin by initalizing our example"
      ],
      "metadata": {
        "id": "OgHnDIUKSwdd"
      }
    },
    {
      "cell_type": "code",
      "source": [
        "import numpy as np"
      ],
      "metadata": {
        "id": "K1fPeTEoSuyc"
      },
      "execution_count": null,
      "outputs": []
    },
    {
      "cell_type": "markdown",
      "source": [
        "Helper function to calculate MSE(Mean Square Error)"
      ],
      "metadata": {
        "id": "pfy7mx6IS8pI"
      }
    },
    {
      "cell_type": "code",
      "source": [
        "def calculate_mse(true_values, predicted_values):\n",
        "    \"\"\"Calculate the Mean Squared Error (MSE)\"\"\"\n",
        "    return np.mean((true_values - predicted_values) ** 2)"
      ],
      "metadata": {
        "id": "gn6Tt20QTBGI"
      },
      "execution_count": null,
      "outputs": []
    },
    {
      "cell_type": "markdown",
      "source": [
        "desicion_tree() function implements the core of the decision tree algorithm. It takes a dataset as input and returns the split value that minimizes the mean squared error. The dataset is expected to be a list of lists, where each inner list represents a data point with the first element as the feature (X) and the second element as the target variable (Y). The function sorts the dataset based on the X values and then iterates over each possible split point. For each split point, it calculates the mean squared error for the two resulting subsets and stores the split value along with the total MSE in a list. Finally, it returns the split value with the minimum total MSE."
      ],
      "metadata": {
        "id": "grwy-ajbUXuS"
      }
    },
    {
      "cell_type": "code",
      "source": [
        "def decision_tree(dataset):\n",
        "    \"\"\"Simplify decision tree algorithm to find split value minimizing MSE\"\"\"\n",
        "    dataset.sort(key=lambda x: x[0])  # Sort dataset based on X\n",
        "\n",
        "    if len(dataset) < 2:\n",
        "        return None, None\n",
        "\n",
        "    mse_values = []  # List to store mean squared error values\n",
        "\n",
        "    # Calculate mean squared error for each possible split point\n",
        "    for i in range(1, len(dataset)):\n",
        "        split_value = (dataset[i - 1][0] + dataset[i][0]) / 2\n",
        "        part_a = [row[1] for row in dataset[:i]]\n",
        "        part_b = [row[1] for row in dataset[i:]]\n",
        "\n",
        "        mse_a = calculate_mse(np.array(part_a), np.full_like(part_a, np.mean(part_a)))\n",
        "        mse_b = calculate_mse(np.array(part_b), np.full_like(part_b, np.mean(part_b)))\n",
        "\n",
        "        mse_values.append((split_value, mse_a + mse_b))\n",
        "\n",
        "    return min(mse_values, key=lambda x: x[1])  # Return the split value with minimum MSE"
      ],
      "metadata": {
        "id": "ydCsliRhUY3x"
      },
      "execution_count": null,
      "outputs": []
    },
    {
      "cell_type": "markdown",
      "source": [
        "build_decision_tree() function builds the decision tree recursively using the decision_tree function. It takes a dataset as input and returns a tree structure representing the decision tree model. If the split value returned by decision_tree is None, indicating that no further splits are beneficial, it returns a leaf node with the prediction based on the mean of the target variable. Otherwise, it splits the dataset into two subsets based on the split value and recursively builds the left and right subtrees."
      ],
      "metadata": {
        "id": "siuW6SDSUra-"
      }
    },
    {
      "cell_type": "code",
      "source": [
        "def build_decision_tree(dataset):\n",
        "    \"\"\"Build decision tree recursively\"\"\"\n",
        "    split_value, min_mse = decision_tree(dataset)\n",
        "\n",
        "    if split_value is None:\n",
        "        return {'split_value': None, 'prediction': np.mean([row[1] for row in dataset])}\n",
        "\n",
        "    left_child = [row for row in dataset if row[0] < split_value]\n",
        "    right_child = [row for row in dataset if row[0] >= split_value]\n",
        "\n",
        "    return {\n",
        "        'split_value': split_value,\n",
        "        'left': build_decision_tree(left_child),\n",
        "        'right': build_decision_tree(right_child)\n",
        "    }"
      ],
      "metadata": {
        "id": "N1qNKD6-Uy3x"
      },
      "execution_count": null,
      "outputs": []
    },
    {
      "cell_type": "markdown",
      "source": [
        "To pretty print here comes the print_tree() function"
      ],
      "metadata": {
        "id": "nn5BvSoBU3r2"
      }
    },
    {
      "cell_type": "code",
      "source": [
        "def print_tree(tree, depth=0):\n",
        "    if tree['split_value'] is None:\n",
        "        print(depth * '  ' + 'Prediction:', tree['prediction'])\n",
        "        return\n",
        "\n",
        "    print(depth * '  ' + 'X <', tree['split_value'])\n",
        "    print_tree(tree['left'], depth + 1)\n",
        "\n",
        "    print(depth * '  ' + 'X >=', tree['split_value'])\n",
        "    print_tree(tree['right'], depth + 1)"
      ],
      "metadata": {
        "id": "VGLFNQSyU9VK"
      },
      "execution_count": null,
      "outputs": []
    },
    {
      "cell_type": "markdown",
      "source": [
        "Example:\n"
      ],
      "metadata": {
        "id": "h1EosAdkU-qx"
      }
    },
    {
      "cell_type": "code",
      "source": [
        "dataset = [\n",
        "    [1, 0.5],\n",
        "    [2, 0.6],\n",
        "    [3, 0.7],\n",
        "    [4, 0.8],\n",
        "    [5, 0.9],\n",
        "    [6, 0.4],\n",
        "    [7, 0.3],\n",
        "    [8, 0.2],\n",
        "    [9, 0.1],\n",
        "    [10, 0.0]\n",
        "]\n",
        "\n",
        "decision_tree_model = build_decision_tree(dataset)\n",
        "print_tree(decision_tree_model)"
      ],
      "metadata": {
        "colab": {
          "base_uri": "https://localhost:8080/"
        },
        "id": "CAMUMVX_VQ92",
        "outputId": "f8a79252-837a-40fc-f779-da5bd395369d"
      },
      "execution_count": null,
      "outputs": [
        {
          "output_type": "stream",
          "name": "stdout",
          "text": [
            "X < 5.5\n",
            "  X < 3.5\n",
            "    X < 1.5\n",
            "      Prediction: 0.5\n",
            "    X >= 1.5\n",
            "      X < 2.5\n",
            "        Prediction: 0.6\n",
            "      X >= 2.5\n",
            "        Prediction: 0.7\n",
            "  X >= 3.5\n",
            "    X < 4.5\n",
            "      Prediction: 0.8\n",
            "    X >= 4.5\n",
            "      Prediction: 0.9\n",
            "X >= 5.5\n",
            "  X < 8.5\n",
            "    X < 6.5\n",
            "      Prediction: 0.4\n",
            "    X >= 6.5\n",
            "      X < 7.5\n",
            "        Prediction: 0.3\n",
            "      X >= 7.5\n",
            "        Prediction: 0.2\n",
            "  X >= 8.5\n",
            "    X < 9.5\n",
            "      Prediction: 0.1\n",
            "    X >= 9.5\n",
            "      Prediction: 0.0\n"
          ]
        }
      ]
    }
  ]
}